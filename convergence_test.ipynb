{
 "cells": [
  {
   "cell_type": "code",
   "execution_count": 4,
   "metadata": {},
   "outputs": [],
   "source": [
    "import matplotlib.pyplot as plt\n",
    "import numpy as np\n",
    "from lattice import Lattice2D, BrickwallLatticeGeometry, SimulationParameters"
   ]
  },
  {
   "cell_type": "code",
   "execution_count": 11,
   "metadata": {},
   "outputs": [],
   "source": [
    "omega = 2 * np.pi / 4\n",
    "\n",
    "geometry = BrickwallLatticeGeometry((7, 14))"
   ]
  },
  {
   "cell_type": "markdown",
   "metadata": {},
   "source": [
    "# Convergence Testing\n",
    "\n",
    "Test RK4 solver with different step sizes; compare sparse and non-sparse hamiltonian."
   ]
  },
  {
   "cell_type": "code",
   "execution_count": null,
   "metadata": {},
   "outputs": [],
   "source": [
    "import time\n",
    "\n",
    "# Define step sizes to test (from smallest to largest)\n",
    "h_values = [1e-5, 5e-5, 1e-4, 2e-4, 5e-4, 1e-3, 2e-3, 5e-3, 1e-2, 2e-2, 5e-2, 1e-1]\n",
    "\n",
    "# Function to run simulation and return results and timing\n",
    "def run_simulation(h, use_sparse=True):\n",
    "    start_time = time.time()\n",
    "    \n",
    "    params_h = SimulationParameters(\n",
    "        t_hop=1.0,\n",
    "        E_amplitude=lambda t: np.sin(omega * t),\n",
    "        E_direction=np.array([0, -1]),\n",
    "        h=h,\n",
    "        T=10,\n",
    "        charge=1,\n",
    "        initial_occupation=0.5,\n",
    "    )\n",
    "    \n",
    "    lattice = Lattice2D(geometry, params_h)\n",
    "    lattice.evolve(solver=\"rk4\", use_sparse=use_sparse, sample_every=0)\n",
    "    final_state = lattice.states[-1].density.diagonal().real\n",
    "    \n",
    "    elapsed_time = time.time() - start_time\n",
    "    return final_state, elapsed_time"
   ]
  },
  {
   "cell_type": "code",
   "execution_count": 16,
   "metadata": {},
   "outputs": [
    {
     "name": "stdout",
     "output_type": "stream",
     "text": []
    },
    {
     "name": "stdout",
     "output_type": "stream",
     "text": []
    },
    {
     "name": "stdout",
     "output_type": "stream",
     "text": []
    },
    {
     "name": "stdout",
     "output_type": "stream",
     "text": []
    },
    {
     "name": "stdout",
     "output_type": "stream",
     "text": []
    },
    {
     "name": "stdout",
     "output_type": "stream",
     "text": []
    },
    {
     "name": "stdout",
     "output_type": "stream",
     "text": []
    },
    {
     "name": "stdout",
     "output_type": "stream",
     "text": []
    },
    {
     "name": "stdout",
     "output_type": "stream",
     "text": []
    },
    {
     "name": "stdout",
     "output_type": "stream",
     "text": []
    },
    {
     "name": "stdout",
     "output_type": "stream",
     "text": []
    },
    {
     "name": "stdout",
     "output_type": "stream",
     "text": []
    },
    {
     "name": "stdout",
     "output_type": "stream",
     "text": []
    },
    {
     "name": "stdout",
     "output_type": "stream",
     "text": []
    },
    {
     "name": "stdout",
     "output_type": "stream",
     "text": []
    },
    {
     "name": "stdout",
     "output_type": "stream",
     "text": []
    },
    {
     "name": "stdout",
     "output_type": "stream",
     "text": []
    },
    {
     "name": "stdout",
     "output_type": "stream",
     "text": []
    },
    {
     "name": "stdout",
     "output_type": "stream",
     "text": []
    },
    {
     "name": "stdout",
     "output_type": "stream",
     "text": []
    },
    {
     "name": "stdout",
     "output_type": "stream",
     "text": []
    },
    {
     "name": "stdout",
     "output_type": "stream",
     "text": []
    },
    {
     "name": "stdout",
     "output_type": "stream",
     "text": []
    },
    {
     "name": "stdout",
     "output_type": "stream",
     "text": []
    },
    {
     "name": "stdout",
     "output_type": "stream",
     "text": []
    },
    {
     "name": "stdout",
     "output_type": "stream",
     "text": []
    }
   ],
   "source": [
    "results_sparse = []\n",
    "times_sparse = []\n",
    "results_dense = []\n",
    "times_dense = []\n",
    "\n",
    "for h in h_values:\n",
    "    print(f\"Running with h={h}\")\n",
    "    \n",
    "    # print(\"  - Sparse matrix...\")\n",
    "    final_state, elapsed = run_simulation(h, use_sparse=True)\n",
    "    results_sparse.append(final_state)\n",
    "    times_sparse.append(elapsed)\n",
    "    print(f\"Completed in {elapsed:.2f} seconds\")\n",
    "    \n",
    "    # print(\"  - Dense matrix...\")\n",
    "    # final_state, elapsed = run_simulation(h, use_sparse=False)\n",
    "    # results_dense.append(final_state)\n",
    "    # times_dense.append(elapsed)\n",
    "    # print(f\"    Completed in {elapsed:.2f} seconds\")"
   ]
  },
  {
   "cell_type": "code",
   "execution_count": 27,
   "metadata": {},
   "outputs": [
    {
     "name": "stdout",
     "output_type": "stream",
     "text": []
    }
   ],
   "source": [
    "# Calculate standard deviations from the reference solution (smallest h)\n",
    "reference_sparse = results_sparse[0]\n",
    "# reference_dense = results_dense[0]\n",
    "\n",
    "deviations_sparse = [np.std(result - reference_sparse) for result in results_sparse]\n",
    "# deviations_dense = [np.std(result - reference_dense) for result in results_dense]\n",
    "\n",
    "# Plot the results\n",
    "fig, (ax1, ax2, ax3) = plt.subplots(1, 3, figsize=(18, 5))\n",
    "\n",
    "# Plot standard deviations vs h\n",
    "ax1.loglog(h_values, deviations_sparse, 'o-', label='Sparse')\n",
    "# ax1.set_xscale('log')\n",
    "# ax1.loglog(h_values, deviations_dense, 's-', label='Dense')\n",
    "ax1.set_xlabel('Step size (h)')\n",
    "ax1.set_ylabel('Standard deviation from reference')\n",
    "ax1.set_title('Convergence Analysis')\n",
    "ax1.legend()\n",
    "ax1.grid(True)\n",
    "\n",
    "# Plot computation time vs h\n",
    "ax2.loglog(h_values, times_sparse, 'o-', label='Sparse')\n",
    "# ax2.loglog(h_values, times_dense, 's-', label='Dense')\n",
    "ax2.set_xlabel('Step size (h)')\n",
    "ax2.set_ylabel('Computation time (s)')\n",
    "ax2.set_title('Performance Analysis')\n",
    "ax2.legend()\n",
    "ax2.grid(True)\n",
    "\n",
    "# Plot efficiency: deviation vs time\n",
    "ax3.loglog(times_sparse, deviations_sparse, 'o-', label='Sparse')\n",
    "# ax3.loglog(times_dense, deviations_dense, 's-', label='Dense')\n",
    "ax3.set_xlabel('Computation time (s)')\n",
    "ax3.set_ylabel('Standard deviation from reference')\n",
    "ax3.set_title('Efficiency Analysis')\n",
    "ax3.legend()\n",
    "ax3.grid(True)\n",
    "\n",
    "plt.tight_layout()\n",
    "plt.show()"
   ]
  },
  {
   "cell_type": "markdown",
   "metadata": {},
   "source": [
    "## Analysis and Optimal Step Size\n",
    "\n",
    "We can determine an optimal step size by finding where the deviation starts to grow significantly. This represents the best balance between accuracy and performance."
   ]
  },
  {
   "cell_type": "code",
   "execution_count": null,
   "metadata": {},
   "outputs": [
    {
     "name": "stdout",
     "output_type": "stream",
     "text": []
    }
   ],
   "source": [
    "# Find optimal h based on deviation threshold\n",
    "threshold = 1e-7\n",
    "\n",
    "print(\"Sparse Matrix Results:\")\n",
    "print(\"-\" * 60)\n",
    "print(f\"{'Step size (h)':<15} {'Deviation':<15} {'Time (s)':<15} {'Optimal?':<15}\")\n",
    "print(\"-\" * 60)\n",
    "\n",
    "for h, dev, t in zip(h_values, deviations_sparse, times_sparse):\n",
    "    optimal = \"Yes\" if dev < threshold else \"No\"\n",
    "    print(f\"{h:<15.6f} {dev:<15.6e} {t:<15.3f} {optimal:<15}\")\n",
    "\n",
    "# print(\"\\nDense Matrix Results:\")\n",
    "# print(\"-\" * 60)\n",
    "# print(f\"{'Step size (h)':<15} {'Deviation':<15} {'Time (s)':<15} {'Optimal?':<15}\")\n",
    "# print(\"-\" * 60)\n",
    "\n",
    "# for h, dev, t in zip(h_values, deviations_dense, times_dense):\n",
    "#     optimal = \"Yes\" if dev < threshold else \"No\"\n",
    "#     print(f\"{h:<15.6f} {dev:<15.6e} {t:<15.3f} {optimal:<15}\")"
   ]
  },
  {
   "cell_type": "code",
   "execution_count": null,
   "metadata": {},
   "outputs": [],
   "source": []
  }
 ],
 "metadata": {
  "kernelspec": {
   "display_name": "orbitronics",
   "language": "python",
   "name": "python3"
  },
  "language_info": {
   "codemirror_mode": {
    "name": "ipython",
    "version": 3
   },
   "file_extension": ".py",
   "mimetype": "text/x-python",
   "name": "python",
   "nbconvert_exporter": "python",
   "pygments_lexer": "ipython3",
   "version": "3.11.5"
  }
 },
 "nbformat": 4,
 "nbformat_minor": 2
}
