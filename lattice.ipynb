{
 "cells": [
  {
   "cell_type": "code",
   "execution_count": 1,
   "metadata": {},
   "outputs": [],
   "source": [
    "import numpy as np\n",
    "from lattice import Lattice2D, BrickwallLattice, SquareLattice"
   ]
  },
  {
   "cell_type": "code",
   "execution_count": 2,
   "metadata": {},
   "outputs": [
    {
     "name": "stdout",
     "output_type": "stream",
     "text": [
      "Creating Hamiltonians...\n",
      "Done.\n",
      "Calculating energy eigenstates...\n",
      "Done.\n",
      "50 % of states were set as initially occupied.\n",
      "10.0%. Run time:   8.29s. Est. time left: 00:00:01:14\n",
      "20.0%. Run time:  12.46s. Est. time left: 00:00:00:49\n",
      "30.0%. Run time:  19.40s. Est. time left: 00:00:00:45\n",
      "40.0%. Run time:  24.74s. Est. time left: 00:00:00:37\n",
      "50.0%. Run time:  29.99s. Est. time left: 00:00:00:29\n",
      "60.0%. Run time:  37.20s. Est. time left: 00:00:00:24\n",
      "70.0%. Run time:  41.39s. Est. time left: 00:00:00:17\n",
      "80.0%. Run time:  47.95s. Est. time left: 00:00:00:11\n",
      "90.0%. Run time:  54.17s. Est. time left: 00:00:00:06\n",
      "100.0%. Run time:  58.21s. Est. time left: 00:00:00:00\n",
      "Total run time:  58.21s\n"
     ]
    },
    {
     "name": "stderr",
     "output_type": "stream",
     "text": [
      "Generating animation:  99%|█████████▉| 122/123 [00:48<00:00,  2.52frame/s]\n"
     ]
    }
   ],
   "source": [
    "l = Lattice2D(\n",
    "    dimensions=(6, 12),\n",
    "    t_hop=1,\n",
    "    E_amplitude=lambda t: np.cos(t),\n",
    "    E_dir=np.array([1, 0]),\n",
    "    h=1e-3,\n",
    "    T=12,\n",
    "    initial_occupation=0.5,\n",
    ")\n",
    "\n",
    "l.evolve(options={\"progress_bar\": True})\n",
    "l.save_current_density_animation(\"polarized-lattice.gif\", sample_every=97, curl_norm=l.maximum_curl, fps=15)"
   ]
  },
  {
   "cell_type": "code",
   "execution_count": 3,
   "metadata": {},
   "outputs": [
    {
     "name": "stdout",
     "output_type": "stream",
     "text": [
      "Creating Hamiltonians...\n",
      "Done.\n",
      "Calculating energy eigenstates...\n",
      "Done.\n",
      "50 % of states were set as initially occupied.\n",
      "10.0%. Run time:  15.29s. Est. time left: 00:00:02:17\n",
      "20.0%. Run time:  23.38s. Est. time left: 00:00:01:33\n",
      "30.0%. Run time:  35.52s. Est. time left: 00:00:01:22\n",
      "40.0%. Run time:  44.99s. Est. time left: 00:00:01:07\n",
      "50.0%. Run time:  55.74s. Est. time left: 00:00:00:55\n",
      "60.0%. Run time:  70.70s. Est. time left: 00:00:00:47\n",
      "70.0%. Run time:  80.51s. Est. time left: 00:00:00:34\n",
      "80.0%. Run time:  95.28s. Est. time left: 00:00:00:23\n",
      "90.0%. Run time: 108.94s. Est. time left: 00:00:00:12\n",
      "100.0%. Run time: 119.54s. Est. time left: 00:00:00:00\n",
      "Total run time: 119.54s\n"
     ]
    },
    {
     "name": "stderr",
     "output_type": "stream",
     "text": [
      "Generating animation:  98%|█████████▊| 60/61 [00:23<00:00,  2.56frame/s]\n"
     ]
    }
   ],
   "source": [
    "l = BrickwallLattice(\n",
    "    dimensions=(7, 12),\n",
    "    t_hop=1,\n",
    "    E_amplitude=lambda t: np.cos(t),\n",
    "    E_dir=np.array([1, 0]),\n",
    "    h=2e-3,\n",
    "    T=12,\n",
    "    initial_occupation=0.5,\n",
    ")\n",
    "\n",
    "l.evolve(options={\"progress_bar\": True})\n",
    "l.save_current_density_animation(\"polarized-bw-lattice.gif\", sample_every=97, curl_norm=l.maximum_curl, fps=15)"
   ]
  },
  {
   "cell_type": "code",
   "execution_count": 26,
   "metadata": {},
   "outputs": [],
   "source": [
    "class BrickwallLattice(Lattice2D):\n",
    "    def __init__(self, *args, **kwargs):\n",
    "        super().__init__(*args, **kwargs)\n",
    "        \n",
    "        self.cell_path = np.array([(0, 1), (1, 2), (2, self.Lx+2), (self.Lx+2, self.Lx+1), (self.Lx+1, self.Lx), (self.Lx, 0)])\n",
    "\n",
    "\n",
    "    def get_brickwall_lattice_sites(self) -> np.ndarray:\n",
    "        if self.Lx % 2 == 0:\n",
    "            y_hop_row = np.tile([0, 1], self.Lx//2)\n",
    "            y_hop = np.concatenate([y_hop_row, 1 - y_hop_row] * (self.Ly // 2 - 1) + [y_hop_row])\n",
    "        else:\n",
    "            y_hop = np.tile([0, 1], (self.Ly-1)*self.Lx//2)\n",
    "            y_hop = np.concatenate([y_hop, [0] * (1- self.Ly % 2)])\n",
    "        \n",
    "        erase_positions = np.diag(y_hop, self.Lx) + np.diag(y_hop, -self.Lx)\n",
    "        return 1-erase_positions\n",
    "    \n",
    "    \n",
    "    def create_hopping_hamiltonian(self):\n",
    "        return super().create_hopping_hamiltonian() * self.get_brickwall_lattice_sites()\n",
    "    \n",
    "    def curl(self, J: np.ndarray) -> np.ndarray:\n",
    "        cell_width = (self.cell_path.flatten() % self.Lx).max()\n",
    "        cell_height = (self.cell_path.flatten() // self.Lx).max()\n",
    "        curl = dict()\n",
    "        # curl_row_length = self.L-cell_width\n",
    "\n",
    "        for i in range(0, self.Ly - cell_height, cell_height):\n",
    "            for j in range(i%2, self.Lx - cell_width, cell_width):\n",
    "                site_index = self.Lx * i + j\n",
    "                curl[site_index] = sum([J[site_index + di, site_index + dj] for di, dj in self.cell_path])\n",
    "        return curl\n",
    "    \n",
    "    \n",
    "        \n",
    "    \n",
    "\n",
    "class SquareLattice(Lattice2D):\n",
    "    def __init__(self, L: int, *args, **kwargs):\n",
    "        super().__init__(dimensions=(L, L), *args, **kwargs)\n",
    "        self.L = L\n",
    "\n"
   ]
  },
  {
   "cell_type": "code",
   "execution_count": null,
   "metadata": {},
   "outputs": [],
   "source": []
  }
 ],
 "metadata": {
  "kernelspec": {
   "display_name": "orbitronics",
   "language": "python",
   "name": "python3"
  },
  "language_info": {
   "codemirror_mode": {
    "name": "ipython",
    "version": 3
   },
   "file_extension": ".py",
   "mimetype": "text/x-python",
   "name": "python",
   "nbconvert_exporter": "python",
   "pygments_lexer": "ipython3",
   "version": "3.11.5"
  }
 },
 "nbformat": 4,
 "nbformat_minor": 2
}
