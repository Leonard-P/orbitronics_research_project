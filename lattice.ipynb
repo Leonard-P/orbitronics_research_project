{
 "cells": [
  {
   "cell_type": "code",
   "execution_count": null,
   "metadata": {},
   "outputs": [],
   "source": [
    "import numpy as np\n",
    "from lattice import Lattice2D, BrickwallLattice, SquareLattice"
   ]
  },
  {
   "cell_type": "code",
   "execution_count": 4,
   "metadata": {},
   "outputs": [
    {
     "name": "stdout",
     "output_type": "stream",
     "text": [
      "Creating Hamiltonians...\n",
      "Done.\n",
      "Calculating energy eigenstates...\n",
      "Done.\n",
      "50 % of states were set as initially occupied.\n",
      "10.0%. Run time:  10.01s. Est. time left: 00:00:01:30\n",
      "20.0%. Run time:  17.68s. Est. time left: 00:00:01:10\n",
      "30.0%. Run time:  25.56s. Est. time left: 00:00:00:59\n",
      "40.0%. Run time:  33.25s. Est. time left: 00:00:00:49\n",
      "50.0%. Run time:  41.11s. Est. time left: 00:00:00:41\n",
      "60.0%. Run time:  48.82s. Est. time left: 00:00:00:32\n",
      "70.0%. Run time:  56.75s. Est. time left: 00:00:00:24\n",
      "80.0%. Run time:  64.45s. Est. time left: 00:00:00:16\n",
      "90.0%. Run time:  72.33s. Est. time left: 00:00:00:08\n",
      "100.0%. Run time:  80.06s. Est. time left: 00:00:00:00\n",
      "Total run time:  80.06s\n"
     ]
    }
   ],
   "source": [
    "bw = BrickwallLattice((6, 12), 1, 1, np.array([1, 0]), 1e-3, T=12, initial_occupation=0.5)\n",
    "bw.evolve(options={'progress_bar': True})"
   ]
  },
  {
   "cell_type": "code",
   "execution_count": 5,
   "metadata": {},
   "outputs": [
    {
     "name": "stderr",
     "output_type": "stream",
     "text": [
      "Generating animation:  99%|█████████▉| 122/123 [00:38<00:00,  3.13frame/s]\n"
     ]
    }
   ],
   "source": [
    "max_c = max([max(bw.curl(bw.get_current_density(state)).values()) for state in bw.states])\n",
    "bw.save_current_density_animation('bw_lattice-1.gif', sample_every=97, curl_norm=max_c, fps=15,)"
   ]
  },
  {
   "cell_type": "code",
   "execution_count": 6,
   "metadata": {},
   "outputs": [
    {
     "name": "stdout",
     "output_type": "stream",
     "text": [
      "Creating Hamiltonians...\n",
      "Done.\n",
      "Calculating energy eigenstates...\n",
      "Done.\n",
      "50 % of states were set as initially occupied.\n",
      "10.0%. Run time:   9.09s. Est. time left: 00:00:01:21\n",
      "20.0%. Run time:  16.34s. Est. time left: 00:00:01:05\n",
      "30.0%. Run time:  23.78s. Est. time left: 00:00:00:55\n",
      "40.0%. Run time:  31.03s. Est. time left: 00:00:00:46\n",
      "50.0%. Run time:  38.15s. Est. time left: 00:00:00:38\n",
      "60.0%. Run time:  45.14s. Est. time left: 00:00:00:30\n",
      "70.0%. Run time:  52.18s. Est. time left: 00:00:00:22\n",
      "80.0%. Run time:  59.12s. Est. time left: 00:00:00:14\n",
      "90.0%. Run time:  66.21s. Est. time left: 00:00:00:07\n",
      "100.0%. Run time:  73.43s. Est. time left: 00:00:00:00\n",
      "Total run time:  73.43s\n"
     ]
    }
   ],
   "source": [
    "l = Lattice2D((6, 12), 1, 1, np.array([1, 0]), 1e-3, T=12, initial_occupation=0.5)\n",
    "l.evolve(options={\"progress_bar\":True})"
   ]
  },
  {
   "cell_type": "code",
   "execution_count": 9,
   "metadata": {},
   "outputs": [
    {
     "name": "stderr",
     "output_type": "stream",
     "text": [
      "Generating animation:  99%|█████████▉| 122/123 [00:45<00:00,  2.66frame/s]\n"
     ]
    }
   ],
   "source": [
    "max_c = max([max(bw.curl(bw.get_current_density(state)).values()) for state in bw.states])\n",
    "l.save_current_density_animation(\"lattice-8.gif\", curl_norm=max_c, sample_every=97, fps=15)"
   ]
  }
 ],
 "metadata": {
  "kernelspec": {
   "display_name": "orbitronics",
   "language": "python",
   "name": "python3"
  },
  "language_info": {
   "codemirror_mode": {
    "name": "ipython",
    "version": 3
   },
   "file_extension": ".py",
   "mimetype": "text/x-python",
   "name": "python",
   "nbconvert_exporter": "python",
   "pygments_lexer": "ipython3",
   "version": "3.11.5"
  }
 },
 "nbformat": 4,
 "nbformat_minor": 2
}
