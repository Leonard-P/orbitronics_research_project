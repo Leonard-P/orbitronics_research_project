{
 "cells": [
  {
   "cell_type": "code",
   "execution_count": null,
   "metadata": {},
   "outputs": [],
   "source": [
    "import numpy as np\n",
    "from lattice import Lattice2D, BrickwallLattice, SquareLattice\n",
    "import matplotlib.pyplot as plt"
   ]
  },
  {
   "cell_type": "code",
   "execution_count": null,
   "metadata": {},
   "outputs": [],
   "source": [
    "omega = 2 * np.pi / 3\n",
    "T = 2 * np.pi / omega\n",
    "\n",
    "bw = BrickwallLattice(\n",
    "    dimensions=(7, 12),\n",
    "    t_hop=1,\n",
    "    E_amplitude=lambda t: np.cos(omega * t),\n",
    "    E_dir=np.array([1, 0]),\n",
    "    h=5e-3,\n",
    "    T=50 * T,\n",
    "    initial_occupation=0.5,\n",
    ")\n",
    "\n",
    "bw.plot_hamiltonian()"
   ]
  },
  {
   "cell_type": "code",
   "execution_count": null,
   "metadata": {},
   "outputs": [],
   "source": [
    "bw.evolve(options={\"progress_bar\": True})"
   ]
  },
  {
   "cell_type": "code",
   "execution_count": null,
   "metadata": {},
   "outputs": [],
   "source": [
    "def get_fft_range(t_signal, max_freq, h):\n",
    "    \"\"\"Computes DFT of t_signal and returns amplitudes for frequencies below max_freq.\"\"\"\n",
    "    freqs = np.fft.fftfreq(len(t_signal), d=h)\n",
    "    mask = (freqs < max_freq) & (freqs > 0)\n",
    "    return freqs[mask], np.abs(np.fft.fft(t_signal))[mask]"
   ]
  },
  {
   "cell_type": "code",
   "execution_count": null,
   "metadata": {},
   "outputs": [],
   "source": [
    "l.save_current_density_animation(\"sim_pol_results/rect6x12w2pi3h5e-3T50.mp4\", sample_every=111, fps=30)"
   ]
  },
  {
   "cell_type": "code",
   "execution_count": null,
   "metadata": {},
   "outputs": [],
   "source": [
    "t = np.arange(0, l.steps * l.h, l.h)\n",
    "\n",
    "E = np.cos(omega * t)\n",
    "P = [state.polarisation[1] for state in l.states]\n",
    "P_current = np.diff(P) / l.h\n",
    "M = [state.curl_polarisation[0] for state in l.states]\n",
    "M_current = np.diff(M) / l.h\n",
    "\n",
    "P /= np.max(np.abs(P))\n",
    "P_current /= np.max(np.abs(P_current))\n",
    "M /= np.max(np.abs(M))\n",
    "M_current /= np.max(np.abs(M_current))\n",
    "\n",
    "cutoff_freq = 2 * omega\n",
    "freqs, P_fft = get_fft_range(P, cutoff_freq, l.h)\n",
    "_, E_fft = get_fft_range(E, cutoff_freq, l.h)\n",
    "_, M_fft = get_fft_range(M, cutoff_freq, l.h)\n",
    "\n",
    "freqs /= omega / (2 * np.pi)"
   ]
  },
  {
   "cell_type": "code",
   "execution_count": null,
   "metadata": {},
   "outputs": [],
   "source": [
    "plt.cla()\n",
    "plt.clf()\n",
    "plt.rcParams['lines.linewidth'] = 1\n",
    "\n",
    "fig, axs = plt.subplots(5, 1, figsize=(10, 12))\n",
    "\n",
    "\n",
    "axs[0].plot(t, E, label=\"E(t)\", color=\"tab:blue\")\n",
    "axs[0].set_ylabel(\"E(t)\")\n",
    "\n",
    "axs[1].plot(t, P, label=\"P(t)\", color=\"tab:green\")\n",
    "axs[1].set_ylabel(\"P(t)\")\n",
    "\n",
    "axs[2].plot(t[:-1], P_current, label=\"dP/dt\", color=\"tab:purple\")\n",
    "axs[2].set_ylabel(\"dP/dt\")\n",
    "\n",
    "axs[3].plot(t, M, label=\"M(t)\", color=\"tab:red\")\n",
    "axs[3].set_ylabel(\"M(t)\")\n",
    "\n",
    "axs[4].plot(t[:-1], M_current, label=\"dM/dt\", color=\"tab:orange\")\n",
    "axs[4].set_ylabel(\"dM/dt\")\n",
    "\n",
    "axs[4].set_xlabel(\"t\")\n",
    "\n",
    "plt.tight_layout()\n",
    "plt.savefig(\"sim_pol_results/rect6x12w2pi3h5e-3T50.pdf\")\n",
    "plt.show()"
   ]
  },
  {
   "cell_type": "code",
   "execution_count": null,
   "metadata": {},
   "outputs": [],
   "source": [
    "def E_field(t):\n",
    "    return np.cos(omega * t)\n",
    "\n",
    "l.E = E_field\n",
    "\n",
    "l.save(\"sim_pol_results/rect6x12w2pi3h5e-3T50.lattice\")"
   ]
  },
  {
   "cell_type": "code",
   "execution_count": null,
   "metadata": {},
   "outputs": [],
   "source": [
    "fig, axs = plt.subplots(3, 1, figsize=(10, 12))\n",
    "\n",
    "axs[0].bar(freqs, E_fft, color='green', width=l.h)\n",
    "axs[0].set_title('FFT of E')\n",
    "axs[0].set_ylabel('Amplitude')\n",
    "\n",
    "axs[1].bar(freqs, P_fft, color='blue', width=l.h)\n",
    "axs[1].set_title('FFT of P')\n",
    "axs[1].set_ylabel('Amplitude')\n",
    "\n",
    "axs[2].bar(freqs, M_fft, color='red', width=l.h)\n",
    "axs[2].set_title('FFT of M')\n",
    "axs[2].set_ylabel('Amplitude')\n",
    "axs[2].set_xlabel('Frequency / $\\\\omega$')\n",
    "\n",
    "for ax in axs:\n",
    "    ax.set_xlim(0, cutoff_freq / omega)\n",
    "\n",
    "plt.tight_layout()\n",
    "plt.savefig(\"sim_pol_results/rect6x12w2pi3h5e-3T50_fft.pdf\")\n",
    "plt.show()"
   ]
  },
  {
   "cell_type": "code",
   "execution_count": null,
   "metadata": {},
   "outputs": [],
   "source": [
    "plt.clf()\n",
    "\n",
    "t = np.linspace(0, l.steps*l.h, l.steps)\n",
    "P = [b.states[i].polarisation for i in range(l.steps)]\n",
    "C_J = [b.states[i].curl_polarisation for i in range(l.steps)]\n",
    "P_C = np.diff(P) / l.h\n",
    "\n",
    "P_C /= np.max(P_C)\n",
    "\n",
    "plt.plot(t[:-1], E(t)[:-1], label=\"E(t)\")\n",
    "plt.plot(t[:-1], P[:-1], label=\"P(t)\")\n",
    "# plt.plot(t, C_J, label=\"C_J(t)\")\n",
    "plt.plot(t, P_C, label=\"dP/dt\")\n",
    "\n",
    "plt.xlabel(\"Time\")\n",
    "plt.tight_layout()\n",
    "plt.legend()\n",
    "plt.show()\n",
    "\n",
    "\n",
    "# # Compute FFT on the signals\n",
    "# dt = l.h\n",
    "# N = len(t)\n",
    "# freq = np.fft.fftfreq(N, d=dt)\n",
    "\n",
    "# # Evaluate E(t) and convert P and C_J to arrays (each sample is a 2-component vector)\n",
    "# E_vals = E(t)\n",
    "# P_arr = np.array(P)       # shape: (N, 2)\n",
    "# C_J_arr = np.array(C_J)   # shape: (N, 2)\n",
    "\n",
    "# # Compute FFTs: for vector signals we compute FFT on each component\n",
    "# E_fft = np.fft.fft(E_vals)\n",
    "# P_fft = np.fft.fft(P_arr, axis=0)\n",
    "# C_J_fft = np.fft.fft(C_J_arr, axis=0)\n",
    "\n",
    "# # Create a new figure with two subplots:\n",
    "# plt.figure(figsize=(10, 8))\n",
    "\n",
    "# r = 400\n",
    "# R = np.argmax(np.abs(E_fft)) + 390\n",
    "# print(R)\n",
    "\n",
    "# plt.plot(freq[R-r:R+r], np.abs(E_fft)[R-r:R+r], label=\"|FFT E(t)|\")\n",
    "# plt.plot(freq[R-r:R+r], np.abs(C_J_fft[:, 0])[R-r:R+r], label=\"|FFT C_J_x(t)|\")\n",
    "# plt.title(\"DFT Spectrum for Lattice Signals (l)\")\n",
    "# plt.xlabel(\"Frequency\")\n",
    "# plt.ylabel(\"Magnitude\")\n",
    "# plt.legend()\n",
    "# plt.plot(freq[R-r:R+r], np.abs(P_fft[:, 1])[R-r:R+r], label=\"|FFT P_y(t)|\")\n",
    "# plt.title(\"DFT Spectrum for Polarisation (p)\")\n",
    "# plt.xlabel(\"Frequency\")\n",
    "# plt.ylabel(\"Magnitude\")\n",
    "# plt.legend()\n",
    "# plt.show()\n"
   ]
  },
  {
   "cell_type": "code",
   "execution_count": 5,
   "metadata": {},
   "outputs": [
    {
     "ename": "NameError",
     "evalue": "name 'BrickwallLattice' is not defined",
     "output_type": "error",
     "traceback": [
      "\u001b[31m---------------------------------------------------------------------------\u001b[39m",
      "\u001b[31mNameError\u001b[39m                                 Traceback (most recent call last)",
      "\u001b[36mCell\u001b[39m\u001b[36m \u001b[39m\u001b[32mIn[5]\u001b[39m\u001b[32m, line 1\u001b[39m\n\u001b[32m----> \u001b[39m\u001b[32m1\u001b[39m l = \u001b[43mBrickwallLattice\u001b[49m(\n\u001b[32m      2\u001b[39m     dimensions=(\u001b[32m7\u001b[39m, \u001b[32m12\u001b[39m),\n\u001b[32m      3\u001b[39m     t_hop=\u001b[32m1\u001b[39m,\n\u001b[32m      4\u001b[39m     E_amplitude=cos_func,\n\u001b[32m      5\u001b[39m     E_dir=np.array([\u001b[32m1\u001b[39m, \u001b[32m0\u001b[39m]),\n\u001b[32m      6\u001b[39m     h=\u001b[32m2e-3\u001b[39m,\n\u001b[32m      7\u001b[39m     T=\u001b[32m12\u001b[39m,\n\u001b[32m      8\u001b[39m     initial_occupation=\u001b[32m0.5\u001b[39m,\n\u001b[32m      9\u001b[39m )\n\u001b[32m     11\u001b[39m l.evolve(options={\u001b[33m\"\u001b[39m\u001b[33mprogress_bar\u001b[39m\u001b[33m\"\u001b[39m: \u001b[38;5;28;01mTrue\u001b[39;00m})\n\u001b[32m     12\u001b[39m l.save_current_density_animation(\u001b[33m\"\u001b[39m\u001b[33mpolarized-bw-lattice.gif\u001b[39m\u001b[33m\"\u001b[39m, sample_every=\u001b[32m97\u001b[39m, curl_norm=l.maximum_curl, fps=\u001b[32m15\u001b[39m)\n",
      "\u001b[31mNameError\u001b[39m: name 'BrickwallLattice' is not defined"
     ]
    }
   ],
   "source": [
    "l = BrickwallLattice(\n",
    "    dimensions=(7, 12),\n",
    "    t_hop=1,\n",
    "    E_amplitude=cos_func,\n",
    "    E_dir=np.array([1, 0]),\n",
    "    h=2e-3,\n",
    "    T=12,\n",
    "    initial_occupation=0.5,\n",
    ")\n",
    "\n",
    "l.evolve(options={\"progress_bar\": True})\n",
    "l.save_current_density_animation(\"polarized-bw-lattice.gif\", sample_every=97, curl_norm=l.maximum_curl, fps=15)"
   ]
  },
  {
   "cell_type": "code",
   "execution_count": null,
   "metadata": {},
   "outputs": [],
   "source": [
    "class BrickwallLattice(Lattice2D):\n",
    "    def __init__(self, *args, **kwargs):\n",
    "        super().__init__(*args, **kwargs)\n",
    "        \n",
    "        self.cell_path = np.array([(0, 1), (1, 2), (2, self.Lx+2), (self.Lx+2, self.Lx+1), (self.Lx+1, self.Lx), (self.Lx, 0)])\n",
    "\n",
    "\n",
    "    def get_brickwall_lattice_sites(self) -> np.ndarray:\n",
    "        if self.Lx % 2 == 0:\n",
    "            y_hop_row = np.tile([0, 1], self.Lx//2)\n",
    "            y_hop = np.concatenate([y_hop_row, 1 - y_hop_row] * (self.Ly // 2 - 1) + [y_hop_row])\n",
    "        else:\n",
    "            y_hop = np.tile([0, 1], (self.Ly-1)*self.Lx//2)\n",
    "            y_hop = np.concatenate([y_hop, [0] * (1- self.Ly % 2)])\n",
    "        \n",
    "        erase_positions = np.diag(y_hop, self.Lx) + np.diag(y_hop, -self.Lx)\n",
    "        return 1-erase_positions\n",
    "    \n",
    "    \n",
    "    def create_hopping_hamiltonian(self):\n",
    "        return super().create_hopping_hamiltonian() * self.get_brickwall_lattice_sites()\n",
    "    \n",
    "    def curl(self, J: np.ndarray) -> np.ndarray:\n",
    "        cell_width = (self.cell_path.flatten() % self.Lx).max()\n",
    "        cell_height = (self.cell_path.flatten() // self.Lx).max()\n",
    "        curl = dict()\n",
    "        # curl_row_length = self.L-cell_width\n",
    "\n",
    "        for i in range(0, self.Ly - cell_height, cell_height):\n",
    "            for j in range(i%2, self.Lx - cell_width, cell_width):\n",
    "                site_index = self.Lx * i + j\n",
    "                curl[site_index] = sum([J[site_index + di, site_index + dj] for di, dj in self.cell_path])\n",
    "        return curl\n",
    "    \n",
    "    \n",
    "        \n",
    "    \n",
    "\n",
    "class SquareLattice(Lattice2D):\n",
    "    def __init__(self, L: int, *args, **kwargs):\n",
    "        super().__init__(dimensions=(L, L), *args, **kwargs)\n",
    "        self.L = L\n",
    "\n"
   ]
  },
  {
   "cell_type": "markdown",
   "metadata": {},
   "source": [
    "# Todo\n",
    "\n",
    "Smaller frequencies of E but with $$T/2 < T_{reflection}$$"
   ]
  }
 ],
 "metadata": {
  "kernelspec": {
   "display_name": "orbitronics",
   "language": "python",
   "name": "python3"
  },
  "language_info": {
   "codemirror_mode": {
    "name": "ipython",
    "version": 3
   },
   "file_extension": ".py",
   "mimetype": "text/x-python",
   "name": "python",
   "nbconvert_exporter": "python",
   "pygments_lexer": "ipython3",
   "version": "3.11.5"
  }
 },
 "nbformat": 4,
 "nbformat_minor": 2
}
