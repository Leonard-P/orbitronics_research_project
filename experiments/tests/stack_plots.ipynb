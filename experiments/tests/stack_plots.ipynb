{
 "cells": [
  {
   "cell_type": "code",
   "execution_count": 17,
   "metadata": {},
   "outputs": [],
   "source": [
    "from matplotlib.backends.backend_pdf import PdfPages\n",
    "# from PyPDF2 import PdfReader\n",
    "import io\n",
    "from matplotlib.image import imread\n",
    "\n",
    "import matplotlib.pyplot as plt\n",
    "import fitz\n",
    "\n",
    "def pdf_to_image(pdf_path):\n",
    "    \"\"\"Convert the first page of a PDF to an image.\"\"\"\n",
    "    doc = fitz.open(pdf_path)\n",
    "    page = doc.load_page(0)  # First page\n",
    "    # Increase resolution significantly for better quality\n",
    "    pix = page.get_pixmap(matrix=fitz.Matrix(12.0, 12.0))  # 3x zoom factor for higher resolution\n",
    "    img_bytes = pix.tobytes(\"png\")\n",
    "    img = imread(io.BytesIO(img_bytes), format='png')\n",
    "    return img\n",
    "\n",
    "def create_grid_figure(bw_filepath, lattice6x11_filepath, lattice6x12_filepath, output_path):\n",
    "    fig, axs = plt.subplots(3, 2, figsize=(15, 15))\n",
    "    \n",
    "    # Row titles\n",
    "    # We'll use fig.text instead of set_ylabel for better control of position\n",
    "\n",
    "    row_titles = [\"6 x 11 Lattice\", \"6 x 12 Lattice\", \"7 x 10 Brickwall Lattice\"]\n",
    "    # Column titles\n",
    "    \n",
    "    # Mapping of filepaths to row indices\n",
    "    filepath_to_row = {\n",
    "        lattice6x11_filepath: 0,\n",
    "        lattice6x12_filepath: 1,\n",
    "        bw_filepath: 2\n",
    "    }\n",
    "    \n",
    "    # Add the plots\n",
    "    for filepath, row_idx in filepath_to_row.items():\n",
    "        # Time space plot\n",
    "        time_img = pdf_to_image(f\"{filepath}.pdf\")\n",
    "        axs[row_idx, 0].imshow(time_img)\n",
    "        axs[row_idx, 0].axis('off')\n",
    "        axs[row_idx, 0].set_title(row_titles[row_idx], fontsize=10, fontweight='bold')\n",
    "        \n",
    "        # FFT space plot\n",
    "        fft_img = pdf_to_image(f\"{filepath}_fft.pdf\")\n",
    "        axs[row_idx, 1].imshow(fft_img)\n",
    "        axs[row_idx, 1].axis('off')\n",
    "        axs[row_idx, 1].set_title(\"FFT\", fontsize=10, fontweight='bold')\n",
    "    \n",
    "    \n",
    "    plt.tight_layout()\n",
    "    plt.savefig(output_path, format='png', bbox_inches='tight', dpi=400)\n",
    "    plt.close()"
   ]
  },
  {
   "cell_type": "code",
   "execution_count": 18,
   "metadata": {},
   "outputs": [],
   "source": [
    "create_grid_figure(\"sim_pol_results/bw7x10w2pi3h5e-3T50\", \"sim_pol_results/rect6x11w2pi3h5e-3T50\", \"sim_pol_results/rect6x12w2pi3h5e-3T50\", \"sim_grid.png\")"
   ]
  },
  {
   "cell_type": "code",
   "execution_count": null,
   "metadata": {},
   "outputs": [],
   "source": []
  }
 ],
 "metadata": {
  "kernelspec": {
   "display_name": "orbitronics",
   "language": "python",
   "name": "python3"
  },
  "language_info": {
   "codemirror_mode": {
    "name": "ipython",
    "version": 3
   },
   "file_extension": ".py",
   "mimetype": "text/x-python",
   "name": "python",
   "nbconvert_exporter": "python",
   "pygments_lexer": "ipython3",
   "version": "3.11.5"
  }
 },
 "nbformat": 4,
 "nbformat_minor": 2
}
